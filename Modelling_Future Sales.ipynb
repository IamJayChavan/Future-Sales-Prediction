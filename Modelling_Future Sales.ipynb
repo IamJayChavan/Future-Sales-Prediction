{
 "cells": [
  {
   "cell_type": "markdown",
   "id": "791e0718",
   "metadata": {
    "papermill": {
     "duration": 0.025348,
     "end_time": "2022-01-22T11:25:26.038563",
     "exception": false,
     "start_time": "2022-01-22T11:25:26.013215",
     "status": "completed"
    },
    "tags": []
   },
   "source": [
    "### Import Libraries"
   ]
  },
  {
   "cell_type": "code",
   "execution_count": 1,
   "id": "eac5b88e",
   "metadata": {
    "execution": {
     "iopub.execute_input": "2022-01-22T11:25:26.097528Z",
     "iopub.status.busy": "2022-01-22T11:25:26.095220Z",
     "iopub.status.idle": "2022-01-22T11:25:27.095968Z",
     "shell.execute_reply": "2022-01-22T11:25:27.095145Z",
     "shell.execute_reply.started": "2022-01-22T11:19:55.101859Z"
    },
    "papermill": {
     "duration": 1.03225,
     "end_time": "2022-01-22T11:25:27.096152",
     "exception": false,
     "start_time": "2022-01-22T11:25:26.063902",
     "status": "completed"
    },
    "tags": []
   },
   "outputs": [],
   "source": [
    "import numpy as np # working with array\n",
    "import pandas as pd # importing data \n",
    "from operator import index #conversion of numericobj to interger obj\n",
    "from pyexpat.errors import XML_ERROR_TEXT_DECL\n",
    "#from turtle import home\n",
    "from unicodedata import category #encoding categorial data\n",
    "import matplotlib.pyplot as plt #plotting graphs\n",
    "from scipy import rand #to find random value\n",
    "import seaborn as sns #to create charts and graphs\n",
    "\n",
    "from sklearn.metrics import mean_squared_error # to calculate mse\n",
    "\n",
    "Seed = 42\n",
    "np.random.seed(Seed) #seeding to grow random trees"
   ]
  },
  {
   "cell_type": "markdown",
   "id": "70ce6123",
   "metadata": {
    "papermill": {
     "duration": 0.035778,
     "end_time": "2022-01-22T11:25:27.267049",
     "exception": false,
     "start_time": "2022-01-22T11:25:27.231271",
     "status": "completed"
    },
    "tags": []
   },
   "source": [
    "### Load the datasets"
   ]
  },
  {
   "cell_type": "markdown",
   "id": "89ac30e3",
   "metadata": {},
   "source": [
    "##### <a name=\"data-desc\"></a>Provided data description\n",
    "\n",
    "- sales_train.csv - the training set. Daily historical data from January 2013 to October 2015.\n",
    "- test.csv - the test set. You need to forecast the sales for these shops and products for November 2015.\n",
    "- sample_submission.csv - a sample submission file in the correct format.\n",
    "- items.csv - supplemental information about the items/products.\n",
    "- item_categories.csv  - supplemental information about the items categories.\n",
    "- shops.csv- supplemental information about the shops."
   ]
  },
  {
   "cell_type": "code",
   "execution_count": 2,
   "id": "15383644",
   "metadata": {
    "execution": {
     "iopub.execute_input": "2022-01-22T11:25:27.345363Z",
     "iopub.status.busy": "2022-01-22T11:25:27.343616Z",
     "iopub.status.idle": "2022-01-22T11:25:29.819034Z",
     "shell.execute_reply": "2022-01-22T11:25:29.818517Z",
     "shell.execute_reply.started": "2022-01-22T11:19:55.124165Z"
    },
    "papermill": {
     "duration": 2.522444,
     "end_time": "2022-01-22T11:25:29.819200",
     "exception": false,
     "start_time": "2022-01-22T11:25:27.296756",
     "status": "completed"
    },
    "tags": []
   },
   "outputs": [],
   "source": [
    "train = pd.read_csv('sales_train.csv')\n",
    "shops = pd.read_csv('shops.csv')\n",
    "items = pd.read_csv('items.csv')\n",
    "item_categories = pd.read_csv('item_categories.csv')"
   ]
  },
  {
   "cell_type": "code",
   "execution_count": 3,
   "id": "3e881312",
   "metadata": {},
   "outputs": [
    {
     "data": {
      "text/html": [
       "<div>\n",
       "<style scoped>\n",
       "    .dataframe tbody tr th:only-of-type {\n",
       "        vertical-align: middle;\n",
       "    }\n",
       "\n",
       "    .dataframe tbody tr th {\n",
       "        vertical-align: top;\n",
       "    }\n",
       "\n",
       "    .dataframe thead th {\n",
       "        text-align: right;\n",
       "    }\n",
       "</style>\n",
       "<table border=\"1\" class=\"dataframe\">\n",
       "  <thead>\n",
       "    <tr style=\"text-align: right;\">\n",
       "      <th></th>\n",
       "      <th>date</th>\n",
       "      <th>date_block_num</th>\n",
       "      <th>shop_id</th>\n",
       "      <th>item_id</th>\n",
       "      <th>item_price</th>\n",
       "      <th>item_cnt_day</th>\n",
       "    </tr>\n",
       "  </thead>\n",
       "  <tbody>\n",
       "    <tr>\n",
       "      <th>2935844</th>\n",
       "      <td>10.10.2015</td>\n",
       "      <td>33</td>\n",
       "      <td>25</td>\n",
       "      <td>7409</td>\n",
       "      <td>299.0</td>\n",
       "      <td>1.0</td>\n",
       "    </tr>\n",
       "    <tr>\n",
       "      <th>2935845</th>\n",
       "      <td>09.10.2015</td>\n",
       "      <td>33</td>\n",
       "      <td>25</td>\n",
       "      <td>7460</td>\n",
       "      <td>299.0</td>\n",
       "      <td>1.0</td>\n",
       "    </tr>\n",
       "    <tr>\n",
       "      <th>2935846</th>\n",
       "      <td>14.10.2015</td>\n",
       "      <td>33</td>\n",
       "      <td>25</td>\n",
       "      <td>7459</td>\n",
       "      <td>349.0</td>\n",
       "      <td>1.0</td>\n",
       "    </tr>\n",
       "    <tr>\n",
       "      <th>2935847</th>\n",
       "      <td>22.10.2015</td>\n",
       "      <td>33</td>\n",
       "      <td>25</td>\n",
       "      <td>7440</td>\n",
       "      <td>299.0</td>\n",
       "      <td>1.0</td>\n",
       "    </tr>\n",
       "    <tr>\n",
       "      <th>2935848</th>\n",
       "      <td>03.10.2015</td>\n",
       "      <td>33</td>\n",
       "      <td>25</td>\n",
       "      <td>7460</td>\n",
       "      <td>299.0</td>\n",
       "      <td>1.0</td>\n",
       "    </tr>\n",
       "  </tbody>\n",
       "</table>\n",
       "</div>"
      ],
      "text/plain": [
       "               date  date_block_num  shop_id  item_id  item_price  \\\n",
       "2935844  10.10.2015              33       25     7409       299.0   \n",
       "2935845  09.10.2015              33       25     7460       299.0   \n",
       "2935846  14.10.2015              33       25     7459       349.0   \n",
       "2935847  22.10.2015              33       25     7440       299.0   \n",
       "2935848  03.10.2015              33       25     7460       299.0   \n",
       "\n",
       "         item_cnt_day  \n",
       "2935844           1.0  \n",
       "2935845           1.0  \n",
       "2935846           1.0  \n",
       "2935847           1.0  \n",
       "2935848           1.0  "
      ]
     },
     "execution_count": 3,
     "metadata": {},
     "output_type": "execute_result"
    }
   ],
   "source": [
    "train.tail()"
   ]
  },
  {
   "cell_type": "code",
   "execution_count": 4,
   "id": "0e7258a3",
   "metadata": {},
   "outputs": [
    {
     "data": {
      "text/html": [
       "<div>\n",
       "<style scoped>\n",
       "    .dataframe tbody tr th:only-of-type {\n",
       "        vertical-align: middle;\n",
       "    }\n",
       "\n",
       "    .dataframe tbody tr th {\n",
       "        vertical-align: top;\n",
       "    }\n",
       "\n",
       "    .dataframe thead th {\n",
       "        text-align: right;\n",
       "    }\n",
       "</style>\n",
       "<table border=\"1\" class=\"dataframe\">\n",
       "  <thead>\n",
       "    <tr style=\"text-align: right;\">\n",
       "      <th></th>\n",
       "      <th>item_name</th>\n",
       "      <th>item_id</th>\n",
       "      <th>item_category_id</th>\n",
       "    </tr>\n",
       "  </thead>\n",
       "  <tbody>\n",
       "    <tr>\n",
       "      <th>0</th>\n",
       "      <td>! ВО ВЛАСТИ НАВАЖДЕНИЯ (ПЛАСТ.)         D</td>\n",
       "      <td>0</td>\n",
       "      <td>40</td>\n",
       "    </tr>\n",
       "    <tr>\n",
       "      <th>1</th>\n",
       "      <td>!ABBYY FineReader 12 Professional Edition Full...</td>\n",
       "      <td>1</td>\n",
       "      <td>76</td>\n",
       "    </tr>\n",
       "    <tr>\n",
       "      <th>2</th>\n",
       "      <td>***В ЛУЧАХ СЛАВЫ   (UNV)                    D</td>\n",
       "      <td>2</td>\n",
       "      <td>40</td>\n",
       "    </tr>\n",
       "    <tr>\n",
       "      <th>3</th>\n",
       "      <td>***ГОЛУБАЯ ВОЛНА  (Univ)                      D</td>\n",
       "      <td>3</td>\n",
       "      <td>40</td>\n",
       "    </tr>\n",
       "    <tr>\n",
       "      <th>4</th>\n",
       "      <td>***КОРОБКА (СТЕКЛО)                       D</td>\n",
       "      <td>4</td>\n",
       "      <td>40</td>\n",
       "    </tr>\n",
       "  </tbody>\n",
       "</table>\n",
       "</div>"
      ],
      "text/plain": [
       "                                           item_name  item_id  \\\n",
       "0          ! ВО ВЛАСТИ НАВАЖДЕНИЯ (ПЛАСТ.)         D        0   \n",
       "1  !ABBYY FineReader 12 Professional Edition Full...        1   \n",
       "2      ***В ЛУЧАХ СЛАВЫ   (UNV)                    D        2   \n",
       "3    ***ГОЛУБАЯ ВОЛНА  (Univ)                      D        3   \n",
       "4        ***КОРОБКА (СТЕКЛО)                       D        4   \n",
       "\n",
       "   item_category_id  \n",
       "0                40  \n",
       "1                76  \n",
       "2                40  \n",
       "3                40  \n",
       "4                40  "
      ]
     },
     "execution_count": 4,
     "metadata": {},
     "output_type": "execute_result"
    }
   ],
   "source": [
    "items.head()"
   ]
  },
  {
   "cell_type": "markdown",
   "id": "98a036cf",
   "metadata": {
    "papermill": {
     "duration": 0.015687,
     "end_time": "2022-01-22T11:25:29.852700",
     "exception": false,
     "start_time": "2022-01-22T11:25:29.837013",
     "status": "completed"
    },
    "tags": []
   },
   "source": [
    "##### <a name=\"data-desc\"></a>Merge categories_id in train set\n",
    "- Merge categories_id in train set\n",
    "- Drop string feature from dataset\n",
    "- Change negative values in item_cnt_day feature"
   ]
  },
  {
   "cell_type": "code",
   "execution_count": 5,
   "id": "220b9fdd",
   "metadata": {
    "execution": {
     "iopub.execute_input": "2022-01-22T11:25:29.887055Z",
     "iopub.status.busy": "2022-01-22T11:25:29.886239Z",
     "iopub.status.idle": "2022-01-22T11:25:31.494344Z",
     "shell.execute_reply": "2022-01-22T11:25:31.493828Z",
     "shell.execute_reply.started": "2022-01-22T11:19:56.670167Z"
    },
    "papermill": {
     "duration": 1.626244,
     "end_time": "2022-01-22T11:25:31.494476",
     "exception": false,
     "start_time": "2022-01-22T11:25:29.868232",
     "status": "completed"
    },
    "tags": []
   },
   "outputs": [],
   "source": [
    "# merge categories_id in train set\n",
    "train = train.merge(right=items, how='inner', on='item_id')\n",
    "\n",
    "# drop string feature from dataset\n",
    "train.drop(labels=['item_name'], axis = 1, inplace=True)\n",
    "\n",
    "# change negative values in item_cnt_day feature\n",
    "train['item_cnt_day'] = np.abs(train['item_cnt_day'])\n",
    "\n",
    "grouped_train = train.groupby(by=['date_block_num', 'shop_id', 'item_category_id', 'item_id'], ).agg({'item_cnt_day':sum}).reset_index()\n"
   ]
  },
  {
   "cell_type": "code",
   "execution_count": 6,
   "id": "df8c5613",
   "metadata": {},
   "outputs": [
    {
     "data": {
      "text/html": [
       "<div>\n",
       "<style scoped>\n",
       "    .dataframe tbody tr th:only-of-type {\n",
       "        vertical-align: middle;\n",
       "    }\n",
       "\n",
       "    .dataframe tbody tr th {\n",
       "        vertical-align: top;\n",
       "    }\n",
       "\n",
       "    .dataframe thead th {\n",
       "        text-align: right;\n",
       "    }\n",
       "</style>\n",
       "<table border=\"1\" class=\"dataframe\">\n",
       "  <thead>\n",
       "    <tr style=\"text-align: right;\">\n",
       "      <th></th>\n",
       "      <th>date_block_num</th>\n",
       "      <th>shop_id</th>\n",
       "      <th>item_category_id</th>\n",
       "      <th>item_id</th>\n",
       "      <th>item_cnt_day</th>\n",
       "    </tr>\n",
       "  </thead>\n",
       "  <tbody>\n",
       "    <tr>\n",
       "      <th>0</th>\n",
       "      <td>0</td>\n",
       "      <td>0</td>\n",
       "      <td>2</td>\n",
       "      <td>5572</td>\n",
       "      <td>10.0</td>\n",
       "    </tr>\n",
       "    <tr>\n",
       "      <th>1</th>\n",
       "      <td>0</td>\n",
       "      <td>0</td>\n",
       "      <td>2</td>\n",
       "      <td>5573</td>\n",
       "      <td>1.0</td>\n",
       "    </tr>\n",
       "    <tr>\n",
       "      <th>2</th>\n",
       "      <td>0</td>\n",
       "      <td>0</td>\n",
       "      <td>2</td>\n",
       "      <td>5575</td>\n",
       "      <td>4.0</td>\n",
       "    </tr>\n",
       "    <tr>\n",
       "      <th>3</th>\n",
       "      <td>0</td>\n",
       "      <td>0</td>\n",
       "      <td>2</td>\n",
       "      <td>5576</td>\n",
       "      <td>5.0</td>\n",
       "    </tr>\n",
       "    <tr>\n",
       "      <th>4</th>\n",
       "      <td>0</td>\n",
       "      <td>0</td>\n",
       "      <td>2</td>\n",
       "      <td>5609</td>\n",
       "      <td>1.0</td>\n",
       "    </tr>\n",
       "  </tbody>\n",
       "</table>\n",
       "</div>"
      ],
      "text/plain": [
       "   date_block_num  shop_id  item_category_id  item_id  item_cnt_day\n",
       "0               0        0                 2     5572          10.0\n",
       "1               0        0                 2     5573           1.0\n",
       "2               0        0                 2     5575           4.0\n",
       "3               0        0                 2     5576           5.0\n",
       "4               0        0                 2     5609           1.0"
      ]
     },
     "execution_count": 6,
     "metadata": {},
     "output_type": "execute_result"
    }
   ],
   "source": [
    "grouped_train.head()"
   ]
  },
  {
   "cell_type": "markdown",
   "id": "37fd6cb3",
   "metadata": {
    "papermill": {
     "duration": 0.015214,
     "end_time": "2022-01-22T11:25:31.525547",
     "exception": false,
     "start_time": "2022-01-22T11:25:31.510333",
     "status": "completed"
    },
    "tags": []
   },
   "source": [
    "#### Shffle the dataframe first to random the rows\n",
    "* split target from train 'item_cnt_day'\n",
    "* drop item_cnt_day and date_block_num features"
   ]
  },
  {
   "cell_type": "code",
   "execution_count": 7,
   "id": "d6a75bfa",
   "metadata": {
    "execution": {
     "iopub.execute_input": "2022-01-22T11:25:31.559964Z",
     "iopub.status.busy": "2022-01-22T11:25:31.559094Z",
     "iopub.status.idle": "2022-01-22T11:25:31.747826Z",
     "shell.execute_reply": "2022-01-22T11:25:31.747284Z",
     "shell.execute_reply.started": "2022-01-22T11:19:58.159517Z"
    },
    "papermill": {
     "duration": 0.206858,
     "end_time": "2022-01-22T11:25:31.747972",
     "exception": false,
     "start_time": "2022-01-22T11:25:31.541114",
     "status": "completed"
    },
    "tags": []
   },
   "outputs": [],
   "source": [
    "# Shffle the dataframe first to random the rows\n",
    "grouped_train = grouped_train.sample(frac=1, random_state=Seed)\n",
    "\n",
    "# split target from train 'item_cnt_day'\n",
    "target  = grouped_train['item_cnt_day']\n",
    "\n",
    "# drop item_cnt_day and date_block_num features\n",
    "grouped_train.drop(labels=['item_cnt_day', 'date_block_num'], axis =1, inplace=True)\n"
   ]
  },
  {
   "cell_type": "markdown",
   "id": "f7adea81",
   "metadata": {
    "papermill": {
     "duration": 0.015456,
     "end_time": "2022-01-22T11:25:31.779370",
     "exception": false,
     "start_time": "2022-01-22T11:25:31.763914",
     "status": "completed"
    },
    "tags": []
   },
   "source": [
    "#### show the correlation between features"
   ]
  },
  {
   "cell_type": "code",
   "execution_count": 8,
   "id": "717204e0",
   "metadata": {
    "execution": {
     "iopub.execute_input": "2022-01-22T11:25:31.832111Z",
     "iopub.status.busy": "2022-01-22T11:25:31.830957Z",
     "iopub.status.idle": "2022-01-22T11:25:32.273654Z",
     "shell.execute_reply": "2022-01-22T11:25:32.273038Z",
     "shell.execute_reply.started": "2022-01-22T11:19:58.334814Z"
    },
    "papermill": {
     "duration": 0.479069,
     "end_time": "2022-01-22T11:25:32.273787",
     "exception": false,
     "start_time": "2022-01-22T11:25:31.794718",
     "status": "completed"
    },
    "tags": []
   },
   "outputs": [
    {
     "data": {
      "text/plain": [
       "<AxesSubplot:>"
      ]
     },
     "execution_count": 8,
     "metadata": {},
     "output_type": "execute_result"
    },
    {
     "data": {
      "image/png": "[encoded data removed]",
      "text/plain": [
       "<Figure size 432x288 with 2 Axes>"
      ]
     },
     "metadata": {
      "needs_background": "light"
     },
     "output_type": "display_data"
    }
   ],
   "source": [
    "grouped_train.describe()\n",
    "\n",
    "sns.heatmap(grouped_train.corr())\n"
   ]
  },
  {
   "cell_type": "markdown",
   "id": "68bc937b",
   "metadata": {
    "papermill": {
     "duration": 0.016109,
     "end_time": "2022-01-22T11:25:32.306597",
     "exception": false,
     "start_time": "2022-01-22T11:25:32.290488",
     "status": "completed"
    },
    "tags": []
   },
   "source": [
    "#### Split Train and valid data"
   ]
  },
  {
   "cell_type": "code",
   "execution_count": 9,
   "id": "db2d4cd9",
   "metadata": {
    "execution": {
     "iopub.execute_input": "2022-01-22T11:25:32.344689Z",
     "iopub.status.busy": "2022-01-22T11:25:32.344010Z",
     "iopub.status.idle": "2022-01-22T11:25:32.489911Z",
     "shell.execute_reply": "2022-01-22T11:25:32.490356Z",
     "shell.execute_reply.started": "2022-01-22T11:19:58.751991Z"
    },
    "papermill": {
     "duration": 0.167289,
     "end_time": "2022-01-22T11:25:32.490518",
     "exception": false,
     "start_time": "2022-01-22T11:25:32.323229",
     "status": "completed"
    },
    "tags": []
   },
   "outputs": [
    {
     "data": {
      "text/plain": [
       "((1599124, 3), (10000, 3), (1599124,), (10000,))"
      ]
     },
     "execution_count": 9,
     "metadata": {},
     "output_type": "execute_result"
    }
   ],
   "source": [
    "# Split Train and valid data\n",
    "from sklearn.model_selection import train_test_split\n",
    "x_train, x_valid, y_train, y_valid = train_test_split(grouped_train, target, test_size=10_000)\n",
    "\n",
    "x_train.shape, x_valid.shape, y_train.shape, y_valid.shape"
   ]
  },
  {
   "cell_type": "markdown",
   "id": "0a10abec",
   "metadata": {
    "papermill": {
     "duration": 0.016769,
     "end_time": "2022-01-22T11:25:32.523992",
     "exception": false,
     "start_time": "2022-01-22T11:25:32.507223",
     "status": "completed"
    },
    "tags": []
   },
   "source": [
    "#### Prepare test data"
   ]
  },
  {
   "cell_type": "code",
   "execution_count": 10,
   "id": "2bdefc19",
   "metadata": {
    "execution": {
     "iopub.execute_input": "2022-01-22T11:25:32.563136Z",
     "iopub.status.busy": "2022-01-22T11:25:32.562358Z",
     "iopub.status.idle": "2022-01-22T11:25:32.678319Z",
     "shell.execute_reply": "2022-01-22T11:25:32.677684Z",
     "shell.execute_reply.started": "2022-01-22T11:19:58.900553Z"
    },
    "papermill": {
     "duration": 0.137442,
     "end_time": "2022-01-22T11:25:32.678480",
     "exception": false,
     "start_time": "2022-01-22T11:25:32.541038",
     "status": "completed"
    },
    "tags": []
   },
   "outputs": [],
   "source": [
    "# Prepare test data\n",
    "test = pd.read_csv('test.csv')\n",
    "\n",
    "test = test.merge(right=items, how='inner', on='item_id')\n",
    "x_test = test.drop(labels=['item_name', 'ID'], axis=1)\n",
    "\n",
    "# change the order of features ['shop_id', 'item_id', 'item_category_id'] to ['shop_id', 'item_category_id', 'item_id']\n",
    "x_test = x_test[['shop_id', 'item_category_id', 'item_id']]\n"
   ]
  },
  {
   "cell_type": "code",
   "execution_count": 11,
   "id": "d6c74ecc",
   "metadata": {},
   "outputs": [
    {
     "data": {
      "text/html": [
       "<div>\n",
       "<style scoped>\n",
       "    .dataframe tbody tr th:only-of-type {\n",
       "        vertical-align: middle;\n",
       "    }\n",
       "\n",
       "    .dataframe tbody tr th {\n",
       "        vertical-align: top;\n",
       "    }\n",
       "\n",
       "    .dataframe thead th {\n",
       "        text-align: right;\n",
       "    }\n",
       "</style>\n",
       "<table border=\"1\" class=\"dataframe\">\n",
       "  <thead>\n",
       "    <tr style=\"text-align: right;\">\n",
       "      <th></th>\n",
       "      <th>ID</th>\n",
       "      <th>shop_id</th>\n",
       "      <th>item_id</th>\n",
       "      <th>item_name</th>\n",
       "      <th>item_category_id</th>\n",
       "    </tr>\n",
       "  </thead>\n",
       "  <tbody>\n",
       "    <tr>\n",
       "      <th>0</th>\n",
       "      <td>0</td>\n",
       "      <td>5</td>\n",
       "      <td>5037</td>\n",
       "      <td>NHL 15 [PS3, русские субтитры]</td>\n",
       "      <td>19</td>\n",
       "    </tr>\n",
       "    <tr>\n",
       "      <th>1</th>\n",
       "      <td>5100</td>\n",
       "      <td>4</td>\n",
       "      <td>5037</td>\n",
       "      <td>NHL 15 [PS3, русские субтитры]</td>\n",
       "      <td>19</td>\n",
       "    </tr>\n",
       "    <tr>\n",
       "      <th>2</th>\n",
       "      <td>10200</td>\n",
       "      <td>6</td>\n",
       "      <td>5037</td>\n",
       "      <td>NHL 15 [PS3, русские субтитры]</td>\n",
       "      <td>19</td>\n",
       "    </tr>\n",
       "    <tr>\n",
       "      <th>3</th>\n",
       "      <td>15300</td>\n",
       "      <td>3</td>\n",
       "      <td>5037</td>\n",
       "      <td>NHL 15 [PS3, русские субтитры]</td>\n",
       "      <td>19</td>\n",
       "    </tr>\n",
       "    <tr>\n",
       "      <th>4</th>\n",
       "      <td>20400</td>\n",
       "      <td>2</td>\n",
       "      <td>5037</td>\n",
       "      <td>NHL 15 [PS3, русские субтитры]</td>\n",
       "      <td>19</td>\n",
       "    </tr>\n",
       "  </tbody>\n",
       "</table>\n",
       "</div>"
      ],
      "text/plain": [
       "      ID  shop_id  item_id                       item_name  item_category_id\n",
       "0      0        5     5037  NHL 15 [PS3, русские субтитры]                19\n",
       "1   5100        4     5037  NHL 15 [PS3, русские субтитры]                19\n",
       "2  10200        6     5037  NHL 15 [PS3, русские субтитры]                19\n",
       "3  15300        3     5037  NHL 15 [PS3, русские субтитры]                19\n",
       "4  20400        2     5037  NHL 15 [PS3, русские субтитры]                19"
      ]
     },
     "execution_count": 11,
     "metadata": {},
     "output_type": "execute_result"
    }
   ],
   "source": [
    "test.head()"
   ]
  },
  {
   "cell_type": "markdown",
   "id": "04df1d9c",
   "metadata": {
    "papermill": {
     "duration": 0.016704,
     "end_time": "2022-01-22T11:25:32.712118",
     "exception": false,
     "start_time": "2022-01-22T11:25:32.695414",
     "status": "completed"
    },
    "tags": []
   },
   "source": [
    "#### Scale the features"
   ]
  },
  {
   "cell_type": "code",
   "execution_count": 12,
   "id": "368a83e0",
   "metadata": {
    "execution": {
     "iopub.execute_input": "2022-01-22T11:25:32.752590Z",
     "iopub.status.busy": "2022-01-22T11:25:32.751480Z",
     "iopub.status.idle": "2022-01-22T11:25:32.865341Z",
     "shell.execute_reply": "2022-01-22T11:25:32.864813Z",
     "shell.execute_reply.started": "2022-01-22T11:19:58.983367Z"
    },
    "papermill": {
     "duration": 0.13651,
     "end_time": "2022-01-22T11:25:32.865468",
     "exception": false,
     "start_time": "2022-01-22T11:25:32.728958",
     "status": "completed"
    },
    "tags": []
   },
   "outputs": [],
   "source": [
    "# Scale the data using StandardScaler\n",
    "from sklearn.preprocessing import StandardScaler\n",
    "sc = StandardScaler()\n",
    "x_train = sc.fit_transform(x_train)\n",
    "x_valid = sc.transform(x_valid)\n",
    "x_test = sc.transform(x_test)\n"
   ]
  },
  {
   "cell_type": "markdown",
   "id": "52d485d7",
   "metadata": {
    "papermill": {
     "duration": 0.017599,
     "end_time": "2022-01-22T11:25:32.901846",
     "exception": false,
     "start_time": "2022-01-22T11:25:32.884247",
     "status": "completed"
    },
    "tags": []
   },
   "source": [
    "#### Build the Models"
   ]
  },
  {
   "cell_type": "markdown",
   "id": "540a8f64",
   "metadata": {
    "papermill": {
     "duration": 0.017345,
     "end_time": "2022-01-22T11:25:32.937036",
     "exception": false,
     "start_time": "2022-01-22T11:25:32.919691",
     "status": "completed"
    },
    "tags": []
   },
   "source": [
    "##### 1 - RandomForest Algorithm"
   ]
  },
  {
   "cell_type": "code",
   "execution_count": 13,
   "id": "558df6ea",
   "metadata": {
    "execution": {
     "iopub.execute_input": "2022-01-22T11:25:32.979580Z",
     "iopub.status.busy": "2022-01-22T11:25:32.978808Z",
     "iopub.status.idle": "2022-01-22T11:31:01.028717Z",
     "shell.execute_reply": "2022-01-22T11:31:01.027717Z"
    },
    "papermill": {
     "duration": 328.07402,
     "end_time": "2022-01-22T11:31:01.028854",
     "exception": false,
     "start_time": "2022-01-22T11:25:32.954834",
     "status": "completed"
    },
    "tags": []
   },
   "outputs": [
    {
     "name": "stdout",
     "output_type": "stream",
     "text": [
      "Training the data....\n",
      "Model Accuracy...\n",
      "0.42920808764694485\n",
      "Model RMSE...\n",
      "5.133712843694866\n",
      "Predict the test data...\n",
      "[2 2 2 ... 1 1 1]\n"
     ]
    }
   ],
   "source": [
    "''' 1- Random Forest Model'''\n",
    "from sklearn.ensemble import RandomForestRegressor\n",
    "rnd_reg = RandomForestRegressor(n_estimators=150, max_depth=20, random_state=Seed, \n",
    "    n_jobs=-1, criterion='mse')\n",
    "\n",
    "print('Training the data....')\n",
    "rnd_reg.fit(x_train, y_train)\n",
    "\n",
    "# Score the model\n",
    "print('Model Accuracy...')\n",
    "score = rnd_reg.score(x_valid, y_valid)\n",
    "print(score)\n",
    "\n",
    "# Model RMSE\n",
    "print('Model RMSE...')\n",
    "y_pred_valid_rnd = rnd_reg.predict(x_valid)\n",
    "rmse_rnd = mean_squared_error(y_valid, y_pred_valid_rnd, squared=False)\n",
    "print(rmse_rnd)\n",
    "\n",
    "# predict the test set\n",
    "print('Predict the test data...')\n",
    "y_pred_rnd = rnd_reg.predict(x_test)\n",
    "y_pred_rnd = np.round(y_pred_rnd).astype(np.int64)\n",
    "print(y_pred_rnd)\n",
    "\n"
   ]
  },
  {
   "cell_type": "markdown",
   "id": "8e53d9ac",
   "metadata": {
    "papermill": {
     "duration": 0.017613,
     "end_time": "2022-01-22T11:31:01.144327",
     "exception": false,
     "start_time": "2022-01-22T11:31:01.126714",
     "status": "completed"
    },
    "tags": []
   },
   "source": [
    "##### 2- XGBRegressor"
   ]
  },
  {
   "cell_type": "code",
   "execution_count": 14,
   "id": "45b68c4a",
   "metadata": {},
   "outputs": [
    {
     "name": "stdout",
     "output_type": "stream",
     "text": [
      "Collecting package metadata (current_repodata.json): done\n",
      "Solving environment: done\n",
      "\n",
      "# All requested packages already installed.\n",
      "\n",
      "\n",
      "Note: you may need to restart the kernel to use updated packages.\n"
     ]
    }
   ],
   "source": [
    "conda install py-xgboost\n"
   ]
  },
  {
   "cell_type": "code",
   "execution_count": 15,
   "id": "44468d96",
   "metadata": {
    "execution": {
     "iopub.execute_input": "2022-01-22T11:31:01.186944Z",
     "iopub.status.busy": "2022-01-22T11:31:01.186328Z",
     "iopub.status.idle": "2022-01-22T11:32:12.458474Z",
     "shell.execute_reply": "2022-01-22T11:32:12.457976Z",
     "shell.execute_reply.started": "2022-01-22T10:09:09.538398Z"
    },
    "papermill": {
     "duration": 71.296191,
     "end_time": "2022-01-22T11:32:12.458618",
     "exception": false,
     "start_time": "2022-01-22T11:31:01.162427",
     "status": "completed"
    },
    "tags": []
   },
   "outputs": [
    {
     "name": "stdout",
     "output_type": "stream",
     "text": [
      "Training the data....\n",
      "Model Accuracy...\n",
      "0.6780222442647269\n",
      "Model RMSE...\n",
      "3.8557210068557577\n",
      "Predicting the test data...\n",
      "[2 2 2 ... 1 1 1]\n"
     ]
    }
   ],
   "source": [
    "'''2- XGBoost'''\n",
    "\n",
    "import xgboost as xg\n",
    "xg_reg = xg.XGBRegressor(n_estimators =120, learning_rate = .01, random_state = Seed, n_jobs = -1,)\n",
    "\n",
    "\n",
    "print('Training the data....')\n",
    "xg_reg.fit(x_train, y_train)\n",
    "\n",
    "# Score the model\n",
    "print('Model Accuracy...')\n",
    "score = xg_reg.score(x_valid, y_valid)\n",
    "print(score)\n",
    "\n",
    "# Model RMSE\n",
    "print('Model RMSE...')\n",
    "y_pred_valid_xgb = xg_reg.predict(x_valid)\n",
    "rmse_xgb = mean_squared_error(y_valid, y_pred_valid_xgb, squared=False)\n",
    "print(rmse_xgb)\n",
    "\n",
    "# predict the test set\n",
    "print('Predicting the test data...')\n",
    "y_pred_xgb = xg_reg.predict(x_test)\n",
    "y_pred_xgb = np.round(y_pred_xgb).astype(np.int64)\n",
    "print(y_pred_xgb)"
   ]
  },
  {
   "cell_type": "markdown",
   "id": "3e6c425f",
   "metadata": {
    "papermill": {
     "duration": 0.018675,
     "end_time": "2022-01-22T11:32:12.496160",
     "exception": false,
     "start_time": "2022-01-22T11:32:12.477485",
     "status": "completed"
    },
    "tags": []
   },
   "source": [
    "#Thank You"
   ]
  }
 ],
 "metadata": {
  "kernelspec": {
   "display_name": "Python 3",
   "language": "python",
   "name": "python3"
  },
  "language_info": {
   "codemirror_mode": {
    "name": "ipython",
    "version": 3
   },
   "file_extension": ".py",
   "mimetype": "text/x-python",
   "name": "python",
   "nbconvert_exporter": "python",
   "pygments_lexer": "ipython3",
   "version": "3.8.8"
  },
  "papermill": {
   "default_parameters": {},
   "duration": 416.039627,
   "end_time": "2022-01-22T11:32:13.625476",
   "environment_variables": {},
   "exception": null,
   "input_path": "__notebook__.ipynb",
   "output_path": "__notebook__.ipynb",
   "parameters": {},
   "start_time": "2022-01-22T11:25:17.585849",
   "version": "2.3.3"
  }
 },
 "nbformat": 4,
 "nbformat_minor": 5
}
